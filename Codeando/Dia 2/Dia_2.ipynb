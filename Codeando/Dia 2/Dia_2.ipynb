{
 "cells": [
  {
   "cell_type": "code",
   "execution_count": 1,
   "metadata": {},
   "outputs": [
    {
     "name": "stdout",
     "output_type": "stream",
     "text": [
      "hola mundo\n",
      "5\n",
      "10.6\n",
      "True\n"
     ]
    }
   ],
   "source": [
    "texto = \"hola mundo\"\n",
    "numero_int = 5\n",
    "numero_float = 10.6\n",
    "booleanos = True #False\n",
    "print(texto)\n",
    "print(numero_int)\n",
    "print(numero_float)\n",
    "print(booleanos)"
   ]
  },
  {
   "cell_type": "markdown",
   "metadata": {},
   "source": [
    "# Estructuras"
   ]
  },
  {
   "cell_type": "code",
   "execution_count": 10,
   "metadata": {},
   "outputs": [
    {
     "name": "stdout",
     "output_type": "stream",
     "text": [
      "['a', 'b', 1, 5, 7, 3.5, False]\n",
      "{'nombre': 'Daniel', 'Edad': 25}\n",
      "('a', 'b', 1, 5, 7, 3.5, False)\n"
     ]
    }
   ],
   "source": [
    "listas = [\"a\",\"b\",1,5,7,3.5,False] #coleccion ordenada de objetos\n",
    "diccionario = {\"nombre\":\"Daniel\",\"Edad\":25} #pares de palabras agrupadas, cada par contiene 2 elementos una clave y un valor\n",
    "tuples = (\"a\",\"b\",1,5,7,3.5,False) #su orden es inmutable no se puede cambiar nunca\n",
    "#setss = set(\"a\",\"b\",\"c\") #sus elementos no se pueden repetir son unicos\n",
    "print(listas)\n",
    "print(diccionario)\n",
    "print(tuples)"
   ]
  },
  {
   "cell_type": "markdown",
   "metadata": {},
   "source": [
    "# operadores\n",
    "- suma                          : +\n",
    "- resta                         : -\n",
    "- multiplicacion                : *\n",
    "- divison                       : /\n",
    "- cociente(divison al piso)     : //\n",
    "- resto(modulo)                 : %\n",
    "- potencia                      : **2\n",
    "- raiz cuadradra                : **0.5"
   ]
  },
  {
   "cell_type": "code",
   "execution_count": 12,
   "metadata": {},
   "outputs": [
    {
     "name": "stdout",
     "output_type": "stream",
     "text": [
      "La suma de 5 + 2 es: 7\n",
      "La resta de 5 - 2 es: 3\n",
      "La multiplicacion de 5 * 2 es: 10\n",
      "La division de 25 / 5 es: 5.0\n",
      "El cociente de 25 + 5 es: 5\n",
      "El resto de 25 + 5 es: 0\n",
      "La potencia de 5 es: 25\n",
      "La raiz cuadradra de 25 : 5.0\n"
     ]
    }
   ],
   "source": [
    "x=25\n",
    "y=5\n",
    "z=2\n",
    "print(f\"La suma de {y} + {z} es: {y + z}\")\n",
    "print(f\"La resta de {y} - {z} es: {y - z}\")\n",
    "print(f\"La multiplicacion de {y} * {z} es: {y * z}\")\n",
    "print(f\"La division de {x} / {y} es: {x / y}\")\n",
    "print(f\"El cociente de {x} + {y} es: {x // y}\")\n",
    "print(f\"El resto de {x} + {y} es: {x % y}\")\n",
    "print(f\"La potencia de {y} es: {y**2}\")\n",
    "print(f\"La raiz cuadradra de {x} : {x**0.5}\")\n"
   ]
  },
  {
   "cell_type": "markdown",
   "metadata": {},
   "source": [
    "# Redondeo"
   ]
  },
  {
   "cell_type": "code",
   "execution_count": 14,
   "metadata": {},
   "outputs": [
    {
     "name": "stdout",
     "output_type": "stream",
     "text": [
      "26\n"
     ]
    }
   ],
   "source": [
    "x = 25.55643\n",
    "print(round(x,2))"
   ]
  }
 ],
 "metadata": {
  "kernelspec": {
   "display_name": "Python 3",
   "language": "python",
   "name": "python3"
  },
  "language_info": {
   "codemirror_mode": {
    "name": "ipython",
    "version": 3
   },
   "file_extension": ".py",
   "mimetype": "text/x-python",
   "name": "python",
   "nbconvert_exporter": "python",
   "pygments_lexer": "ipython3",
   "version": "3.12.2"
  }
 },
 "nbformat": 4,
 "nbformat_minor": 2
}
